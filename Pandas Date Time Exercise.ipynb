{
 "cells": [
  {
   "cell_type": "markdown",
   "metadata": {},
   "source": [
    "#### 1. Write a Python script to display the\n",
    "#### a. Current date and time\n",
    "#### b. Current year\n",
    "#### c. Month of year\n",
    "#### d. Week number of the year\n",
    "#### e. Weekday of the week\n",
    "#### f. Day of year\n",
    "#### g. Day of the month\n",
    "#### h. Day of week"
   ]
  },
  {
   "cell_type": "code",
   "execution_count": 8,
   "metadata": {},
   "outputs": [
    {
     "name": "stdout",
     "output_type": "stream",
     "text": [
      "2020-05-22 19:29:40\n"
     ]
    }
   ],
   "source": [
    "import pandas as pd\n",
    "import datetime\n",
    "now = datetime.datetime.now()\n",
    "print(now.strftime('%Y-%m-%d %H:%M:%S'))"
   ]
  },
  {
   "cell_type": "code",
   "execution_count": 12,
   "metadata": {},
   "outputs": [
    {
     "name": "stdout",
     "output_type": "stream",
     "text": [
      "Year is 2020 Month is 5 Day is 22 Hour is 19 Min is 31\n"
     ]
    }
   ],
   "source": [
    "import time\n",
    "year, month, day, hour, min = map(int, time.strftime(\"%Y %m %d %H %M\").split())\n",
    "print(\"Year is {0} Month is {1} Day is {2} Hour is {3} Min is {4}\".format(year, month, day, hour, min))"
   ]
  },
  {
   "cell_type": "markdown",
   "metadata": {},
   "source": [
    "#### 2. Write a Python program to convert a string to datetime.\n",
    "Sample String : Jan 1 2014 2:43PM \n",
    "\n",
    "Expected Output : 2014-07-01 14:43:00"
   ]
  },
  {
   "cell_type": "code",
   "execution_count": null,
   "metadata": {},
   "outputs": [],
   "source": []
  },
  {
   "cell_type": "markdown",
   "metadata": {},
   "source": [
    "#### 3. Write a Python program to subtract five days from current date.\n",
    "\n",
    "Current Date : 2015-06-22\n",
    "\n",
    "5 days before Current Date : 2015-06-17"
   ]
  },
  {
   "cell_type": "markdown",
   "metadata": {},
   "source": [
    "#### 4. Write a Python program to convert unix timestamp string to readable date.\n",
    "\n",
    "Sample Unix timestamp string : 1284105682\n",
    "    \n",
    "Expected Output : 2010-09-10 13:31:22"
   ]
  },
  {
   "cell_type": "code",
   "execution_count": null,
   "metadata": {},
   "outputs": [],
   "source": []
  },
  {
   "cell_type": "markdown",
   "metadata": {},
   "source": [
    "#### 5. Convert the below Series to pandas datetime : \n",
    "\n",
    "DoB = pd.Series([\"07Sep59\",\"01Jan55\",\"15Dec47\",\"11Jul42\"])\n",
    "\n",
    "Make sure that the year is 19XX not 20XX"
   ]
  },
  {
   "cell_type": "code",
   "execution_count": null,
   "metadata": {},
   "outputs": [],
   "source": []
  },
  {
   "cell_type": "markdown",
   "metadata": {},
   "source": [
    "#### 6. Write a Python program to get days between two dates. "
   ]
  },
  {
   "cell_type": "code",
   "execution_count": null,
   "metadata": {},
   "outputs": [],
   "source": []
  },
  {
   "cell_type": "markdown",
   "metadata": {},
   "source": [
    "#### 7. Convert the below date to datetime and then change its display format using the .dt module\n",
    "\n",
    "Date = \"15Dec1989\"\n",
    "\n",
    "Result : \"Friday, 15 Dec 98\""
   ]
  }
 ],
 "metadata": {
  "kernelspec": {
   "display_name": "Python 3",
   "language": "python",
   "name": "python3"
  },
  "language_info": {
   "codemirror_mode": {
    "name": "ipython",
    "version": 3
   },
   "file_extension": ".py",
   "mimetype": "text/x-python",
   "name": "python",
   "nbconvert_exporter": "python",
   "pygments_lexer": "ipython3",
   "version": "3.7.4"
  }
 },
 "nbformat": 4,
 "nbformat_minor": 2
}
